{
 "cells": [
  {
   "cell_type": "code",
   "execution_count": 1,
   "metadata": {
    "collapsed": true
   },
   "outputs": [],
   "source": [
    "import urllib\n",
    "import requests\n",
    "from bs4 import BeautifulSoup\n",
    "import re"
   ]
  },
  {
   "cell_type": "code",
   "execution_count": 2,
   "metadata": {
    "collapsed": true
   },
   "outputs": [],
   "source": [
    "user='VandalBot'\n",
    "passw='Goawaybadbots'\n",
    "baseurl='http://wikipast.epfl.ch/wikipast/'\n",
    "summary='Lutte activement contre les nombreux SPAMBot qui assiègent Wikipast.'"
   ]
  },
  {
   "cell_type": "code",
   "execution_count": 3,
   "metadata": {
    "collapsed": true
   },
   "outputs": [],
   "source": [
    "# Login request\n",
    "payload={'action':'query','format':'json','utf8':'','meta':'tokens','type':'login'}\n",
    "r1=requests.post(baseurl + 'api.php', data=payload)\n",
    "\n",
    "#login confirm\n",
    "login_token=r1.json()['query']['tokens']['logintoken']\n",
    "payload={'action':'login','format':'json','utf8':'','lgname':user,'lgpassword':passw,'lgtoken':login_token}\n",
    "r2=requests.post(baseurl + 'api.php', data=payload, cookies=r1.cookies)"
   ]
  },
  {
   "cell_type": "code",
   "execution_count": 4,
   "metadata": {
    "collapsed": true
   },
   "outputs": [],
   "source": [
    "#get edit token2\n",
    "params3='?format=json&action=query&meta=tokens&continue='\n",
    "r3=requests.get(baseurl + 'api.php' + params3, cookies=r2.cookies)\n",
    "edit_token=r3.json()['query']['tokens']['csrftoken']\n",
    "\n",
    "edit_cookie=r2.cookies.copy()\n",
    "edit_cookie.update(r3.cookies)"
   ]
  },
  {
   "cell_type": "code",
   "execution_count": 5,
   "metadata": {
    "collapsed": true
   },
   "outputs": [],
   "source": [
    "fullbios = ''\n",
    "name = 'Biographies'\n",
    "result=requests.post(baseurl+'api.php?action=query&titles='+name+'&export&exportnowrap')\n",
    "soup=BeautifulSoup(result.text, \"lxml\")\n",
    "code=''\n",
    "for primitive in soup.findAll(\"text\"):\n",
    "    code+=primitive.string\n",
    "fullbios = code"
   ]
  },
  {
   "cell_type": "code",
   "execution_count": 25,
   "metadata": {},
   "outputs": [],
   "source": [
    "bots_logins= [\"ADJAnne697\"]\n",
    "protected_logins= [\"Frederickaplan\",\"Maud\",\"Vbuntinx\",\"Testbot\",\"SparqlBot\",\"IB\",\"SourceBot\",\"PageUpdaterBot\",\"Orthobot\",\"BioPathBot\",\"ChronoBOT\",\"Amonbaro\",\"AntoineL\",\"AntoniasBanderos\",\"Arnau\",\"Arnaudpannatier\",\"Aureliver\",\"Brunowicht\",\"Burgerpop\",\"Cedricviaccoz\",\"Christophe\",\"Claudioloureiro\",\"Ghislain\",\"Gregoire3245\",\"Hirtg\",\"Houssm\",\"Icebaker\",\"JenniCin\",\"JiggyQ\",\"JulienB\",\"Kl\",\"Kperrard\",\"Leandro Kieliger\",\"Marcus\",\"Martin\",\"MatteoGiorla\",\"Mireille\",\"Mj2905\",\"Musluoglucem\",\"Nacho\",\"Nameless\",\"Nawel\",\"O'showa\",\"PA\",\"Qantik\",\"QuentinB\",\"Raphael.barman\",\"Roblan11\",\"Romain Fournier\",\"Sbaaa\",\"Snus\",\"Sonia\",\"Tboyer\",\"Thierry\",\"Titi\",\"Vlaedr\",\"Wanda\"]"
   ]
  },
  {
   "cell_type": "code",
   "execution_count": 26,
   "metadata": {},
   "outputs": [],
   "source": [
    "def getPageList(logins):\n",
    "    liste_pages=[]\n",
    "    for user in logins:\n",
    "        result=requests.post(baseurl+'api.php?action=query&list=usercontribs&ucuser='+user+'&format=xml')\n",
    "        soup=BeautifulSoup(result.content,'lxml')\n",
    "        for primitive in soup.usercontribs.findAll('item'):\n",
    "            liste_pages.append(primitive['title'])\n",
    "    liste_pages=list(set(liste_pages))\n",
    "    return liste_pages"
   ]
  },
  {
   "cell_type": "code",
   "execution_count": 27,
   "metadata": {},
   "outputs": [
    {
     "name": "stdout",
     "output_type": "stream",
     "text": [
      "['Donald Trump', 'Fichier:Constance.jpg', 'Snoopy', 'Décès', 'Bots', 'Fichier:Franz Beckenbauer date biopath.png', 'CheckerBot', 'Chronobot', 'Adélaïde', 'Fichier:Winston Churchill date biopath.png', 'Arrestation', 'Construction', 'Zurich', 'Election', 'Edmond Pictet', 'Michel Rochat', 'Retour', 'Marie Bonaparte', 'Mao Zedong', 'Attentat', 'Naissance', 'Othmar Schoeck', 'Discussion:Gustave Ador', 'Démission', 'CrÃ©ation', 'Arthur Honegger', 'Fichier:Charles de Gaulle date biopath.png', 'Walter Mittelholzer', 'Évènements', 'Charles Dobler', 'Monsieur Y', 'TestOrthobot', 'Psychanalyse', 'PageUpdaterBot', 'Journal de Campagne', 'Fichier:Paletfederale.png', 'Jean-FranÃ§ois Antonioli', 'Rocco Filippini', 'TangoBotTest', 'Max Egger', 'Freiberg', 'Bruce Springsteen', 'Charles de Gaulle BioPathBot', 'InferenceBot page test - Laurentinus Porcius', 'Benito Mussolini', 'FormatBot', 'Fichier:Franz Beckenbauer colors biopath.png', 'Franz Beckenbauer', 'Typologie de courbes', 'Franklin D. Roosevelt', 'FactChecking', 'Discussion:InferenceBot/CheckerBot', 'Biographies 2017', 'Exposition', 'Winston Churchill', 'Annonce', 'Fichier:Graph InferenceBot.png', 'Établissement', 'Etablissement', 'The,', 'Utilisateur:ADJAnne697', 'ImageBot', 'Louis Blondel', 'Roger Federer', 'Los Angeles Lakers', '1828', 'Jean-Jacques Langendorf', 'Alfred Roth', 'Nazis', 'Victoire', 'Fondation', 'Retraite', 'Barcelone', 'Fichier:Winston Churchill colors biopath.png', 'Obsèques', 'Autorisation', 'Gustave Ador', 'Sepp Blatter', 'Michael Schumacher', 'Wolfgang Pauli', 'EPFL', '1903', 'Fichier:InferenceBotScraping.png', 'Henry Dunant', 'Daniel Brélaz', 'Phil Collins', 'Organisation', 'Lénine', 'Distinction', 'Fichier:Charles de Gaulle colors biopath.png', 'Bill Gates', 'Le Corbusier', 'BioPathBot', 'Albert Einstein', 'OrthoBot', '1945', 'Los Angeles', 'Journaux intimes du \"Che\"', 'InferenceBot page test - Varius Maxentius', 'Heidi Deneys', 'Testpage', 'Monsieur Lambda', 'Golden State Warriors', 'Ernesto Rafael Guevara', 'Panarabisme', 'Lausanne', 'Fichier:Snoopy.jpg', 'Mariage', 'Secundinus Aurelianus', 'Révolution', 'Discussion:Adolf Hitler', '1700', 'Nomination', 'SourceBot', 'Invitation', 'Adolf Hitler', '1100', 'Fichier:Imagebot vide.PNG', 'Discussion:Charles de Gaulle', 'Dénonciation', '1991', 'CIO', 'Claude Nicollier', 'Fichier:Franz Beckenbauer.jpg', 'SPARQLBot', 'Marie-Ange Buchs', 'UNICEF', 'Moscou', 'Fichier:EPFL.jpg', 'Création', 'Jean-Pierre Pastori', 'InferenceBot/CheckerBot', 'Cravate à motif', 'TestBioPath', 'Sigmund Freud', 'Madame X', 'Application', 'Fichier:Lucky Luke.jpg', 'Utilisateur:Nacho', 'Woodstock, Oxfordshire', 'Discussion:InferenceBot', 'TangoBot', 'Accueil', 'Thomas Edison', 'République Arabe Unie (RAU)', 'Magic Johnson', 'Fichier:Élisabeth II colors biopath.png', 'Fichier:Map1.png', 'MusÃ©e Heidi-Weber-Haus', 'Masters', 'Alain Morisod', 'Henri Dunant', 'Henri Dunant BioPathBot', 'Fichier:Rantamplan.jpg', 'Shangaï', 'InferenceBot page test - Secundinus Aurelianus', 'Vaud', 'New York', 'SPARQL python', 'Smartraveller.gov.au Poland.', 'Joseph Staline', 'Lucky Luke', 'Partie communiste chinois', 'Élisabeth II BioPathBot', 'Chicago', 'Fichier:Bruce Springsteen.jpg', 'Fichier:Michael Schumacher.jpg', 'Trotsky', 'Auguste Piccard', 'Richard Wagner', '1920', 'Fichier:Élisabeth II date biopath.png', 'Palet fédérale', 'Roman Polanski', 'Gstaad', 'République populaire chinoise', 'LinkBot']\n"
     ]
    }
   ],
   "source": [
    "logins = bots_logins + protected_logins;\n",
    "print(getPageList(logins))"
   ]
  }
 ],
 "metadata": {
  "kernelspec": {
   "display_name": "Python 3",
   "language": "python",
   "name": "python3"
  },
  "language_info": {
   "codemirror_mode": {
    "name": "ipython",
    "version": 3
   },
   "file_extension": ".py",
   "mimetype": "text/x-python",
   "name": "python",
   "nbconvert_exporter": "python",
   "pygments_lexer": "ipython3",
   "version": "3.6.1"
  }
 },
 "nbformat": 4,
 "nbformat_minor": 2
}
