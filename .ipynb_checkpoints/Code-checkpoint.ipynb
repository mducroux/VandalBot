{
 "cells": [
  {
   "cell_type": "code",
   "execution_count": 2,
   "metadata": {
    "collapsed": true
   },
   "outputs": [],
   "source": [
    "import urllib\n",
    "import requests\n",
    "from bs4 import BeautifulSoup\n",
    "import re\n",
    "import csv"
   ]
  },
  {
   "cell_type": "code",
   "execution_count": 3,
   "metadata": {
    "collapsed": true
   },
   "outputs": [],
   "source": [
    "user='VandalBot'\n",
    "passw='Goawaybadbots'\n",
    "baseurl='http://wikipast.epfl.ch/wikipast/'\n",
    "summary='Lutte activement contre les nombreux SPAMBot qui assiègent Wikipast.'"
   ]
  },
  {
   "cell_type": "code",
   "execution_count": 4,
   "metadata": {
    "collapsed": true
   },
   "outputs": [],
   "source": [
    "# Login request\n",
    "payload={'action':'query','format':'json','utf8':'','meta':'tokens','type':'login'}\n",
    "r1=requests.post(baseurl + 'api.php', data=payload)\n",
    "\n",
    "#login confirm\n",
    "login_token=r1.json()['query']['tokens']['logintoken']\n",
    "payload={'action':'login','format':'json','utf8':'','lgname':user,'lgpassword':passw,'lgtoken':login_token}\n",
    "r2=requests.post(baseurl + 'api.php', data=payload, cookies=r1.cookies)"
   ]
  },
  {
   "cell_type": "code",
   "execution_count": 5,
   "metadata": {
    "collapsed": true
   },
   "outputs": [],
   "source": [
    "#get edit token2\n",
    "params3='?format=json&action=query&meta=tokens&continue='\n",
    "r3=requests.get(baseurl + 'api.php' + params3, cookies=r2.cookies)\n",
    "edit_token=r3.json()['query']['tokens']['csrftoken']\n",
    "\n",
    "edit_cookie=r2.cookies.copy()\n",
    "edit_cookie.update(r3.cookies)"
   ]
  },
  {
   "cell_type": "code",
   "execution_count": 6,
   "metadata": {
    "collapsed": true
   },
   "outputs": [],
   "source": [
    "fullbios = ''\n",
    "name = 'Biographies'\n",
    "result=requests.post(baseurl+'api.php?action=query&titles='+name+'&export&exportnowrap')\n",
    "soup=BeautifulSoup(result.text, \"lxml\")\n",
    "code=''\n",
    "for primitive in soup.findAll(\"text\"):\n",
    "    code+=primitive.string\n",
    "fullbios = code"
   ]
  },
  {
   "cell_type": "code",
   "execution_count": null,
   "metadata": {
    "collapsed": true
   },
   "outputs": [],
   "source": []
  },
  {
   "cell_type": "code",
   "execution_count": null,
   "metadata": {
    "collapsed": true
   },
   "outputs": [],
   "source": []
  },
  {
   "cell_type": "code",
   "execution_count": 7,
   "metadata": {
    "collapsed": true,
    "scrolled": false
   },
   "outputs": [],
   "source": [
    "users2018 = open(\"liste_utilisateurs_2018.txt\", \"r\")\n",
    "lines = users2018.readlines()\n",
    "list_users_2018 = [l.strip('\\n') for l in lines]"
   ]
  },
  {
   "cell_type": "code",
   "execution_count": 8,
   "metadata": {
    "collapsed": true
   },
   "outputs": [],
   "source": [
    "users2017 = open(\"liste_utilisateurs_2017.txt\", \"r\")\n",
    "lines = users2017.readlines()\n",
    "list_users_2017 = [l.strip('\\n') for l in lines]"
   ]
  },
  {
   "cell_type": "code",
   "execution_count": 9,
   "metadata": {
    "collapsed": true
   },
   "outputs": [],
   "source": [
    "goodBots = open(\"list_good_bots.txt\", \"r\")\n",
    "lines = goodBots.readlines()\n",
    "list_good_bots = [l.strip('\\n') for l in lines]"
   ]
  },
  {
   "cell_type": "code",
   "execution_count": 10,
   "metadata": {
    "collapsed": true
   },
   "outputs": [],
   "source": [
    "protected_logins = list(set(list_users_2018).union(set(list_users_2017)))"
   ]
  },
  {
   "cell_type": "code",
   "execution_count": 11,
   "metadata": {
    "collapsed": true
   },
   "outputs": [],
   "source": [
    "def getPageList(logins):\n",
    "    liste_pages=[]\n",
    "    for user in logins:\n",
    "        result=requests.post(baseurl+'api.php?action=query&list=usercontribs&ucuser='+user+'&format=xml')\n",
    "        soup=BeautifulSoup(result.content,'lxml')\n",
    "        for primitive in soup.usercontribs.findAll('item'):\n",
    "            liste_pages.append(primitive['title'])\n",
    "    liste_pages=list(set(liste_pages))\n",
    "    return liste_pages"
   ]
  },
  {
   "cell_type": "code",
   "execution_count": 12,
   "metadata": {},
   "outputs": [
    {
     "data": {
      "text/plain": [
       "269"
      ]
     },
     "execution_count": 12,
     "metadata": {},
     "output_type": "execute_result"
    }
   ],
   "source": [
    "humansPages = getPageList(protected_logins)\n",
    "len(humansPages)"
   ]
  },
  {
   "cell_type": "code",
   "execution_count": 13,
   "metadata": {
    "collapsed": true
   },
   "outputs": [],
   "source": [
    "protected_logins = list(set(list_users_2018).union(set(list_users_2017)).union(set(list_good_bots)))"
   ]
  },
  {
   "cell_type": "code",
   "execution_count": 14,
   "metadata": {
    "collapsed": true
   },
   "outputs": [],
   "source": [
    "def getRandomPage():\n",
    "    result=requests.post(baseurl+'index.php/Special:Page_au_hasard')\n",
    "    return result.url[43:]"
   ]
  },
  {
   "cell_type": "code",
   "execution_count": 15,
   "metadata": {
    "collapsed": true
   },
   "outputs": [],
   "source": [
    "botsPages = []\n",
    "while(len(botsPages) < len(humansPages)):\n",
    "    tmp = getRandomPage()\n",
    "    if((tmp not in humansPages) and (tmp not in botsPages) and len(tmp) > 20):\n",
    "        botsPages.append(tmp)"
   ]
  },
  {
   "cell_type": "code",
   "execution_count": 16,
   "metadata": {},
   "outputs": [
    {
     "data": {
      "text/plain": [
       "['CrÃ©ation',\n",
       " 'Fichier:Franz Beckenbauer colors biopath.png',\n",
       " 'Monsieur Lambda',\n",
       " 'Psychanalyse',\n",
       " 'Alfred Roth',\n",
       " 'Los Angeles Lakers',\n",
       " 'Vevey',\n",
       " 'Prix de la Ville de Lausanne',\n",
       " 'Discussion:Mort',\n",
       " 'Barcelone',\n",
       " 'Franz Beckenbauer',\n",
       " 'Fichier:Imagebot vide.PNG',\n",
       " 'InferenceBot page test - Secundinus Aurelianus',\n",
       " 'Discussion:Louise Michel2',\n",
       " 'Utilisateur:Nacho',\n",
       " 'Gstaad',\n",
       " 'Adélaïde',\n",
       " '1980.04.20',\n",
       " 'CIO',\n",
       " 'Discussion:Louise Michel',\n",
       " 'Fichier:SimilarBot weights chart.png',\n",
       " 'Richard Wagner',\n",
       " 'Fondation',\n",
       " 'Fichier:Grader bot ex ok.jpg',\n",
       " 'Discussion:Adolf Hitler',\n",
       " 'Roman Polanski',\n",
       " 'Fichier:Paletfederale.png',\n",
       " 'Fondation vaudoise pour la promotion et la création artistiques',\n",
       " '1987.05.31',\n",
       " '1962.10.22',\n",
       " '1989.05.07',\n",
       " 'Annonce',\n",
       " 'Election',\n",
       " 'Gioachino Rossini',\n",
       " 'Paris',\n",
       " 'FormatBot',\n",
       " 'Panarabisme',\n",
       " 'Obsèques',\n",
       " 'Mishima ou la vision du vide',\n",
       " 'Mao Zedong',\n",
       " '1970',\n",
       " 'Jean Genet',\n",
       " 'Naissance',\n",
       " 'Fichier:Charles de Gaulle date biopath.png',\n",
       " 'SliderBot',\n",
       " '1962.09.12',\n",
       " 'Prix Hélène Vacaresco',\n",
       " 'Commandeur',\n",
       " 'Élisabeth II BioPathBot',\n",
       " 'Kurt Cobain',\n",
       " 'Fichier:InferenceBotScraping.png',\n",
       " 'Creatobot',\n",
       " 'Triplificator',\n",
       " 'Fichier:Franz Beckenbauer.jpg',\n",
       " 'Distinction',\n",
       " 'InferenceBot page test - Laurentinus Porcius',\n",
       " 'TestBioPath',\n",
       " 'N-gramme',\n",
       " 'Datafications biographiques',\n",
       " 'Jean-Luc Godard',\n",
       " 'Vaud',\n",
       " 'Zurich',\n",
       " 'République populaire chinoise',\n",
       " 'Lausanne',\n",
       " 'Henri Dunant',\n",
       " 'Winston Churchill',\n",
       " 'Daniel Brélaz',\n",
       " '1963.06.26',\n",
       " 'Walter Mittelholzer',\n",
       " 'Ernesto Rafael Guevara',\n",
       " 'Discussion:Gustave Ador',\n",
       " 'Arrestation',\n",
       " 'Biographies',\n",
       " \"Ordre de l'Empire Britannique\",\n",
       " 'ImageBot',\n",
       " 'Cinématographe',\n",
       " 'Franklin D. Roosevelt',\n",
       " 'Chicago',\n",
       " 'Fichier:Grader bot ex notOK.jpg',\n",
       " 'Mémoire d’Hadrien',\n",
       " 'Fichier:Lucky Luke.jpg',\n",
       " 'Fichier:Charles de Gaulle colors biopath.png',\n",
       " 'Bolchéviks',\n",
       " 'Discussion:1000.10.10',\n",
       " 'SimilarBot',\n",
       " '1903',\n",
       " '1966.10.16',\n",
       " 'Fichier:Élisabeth II date biopath.png',\n",
       " 'Démission',\n",
       " 'Bill Gates',\n",
       " 'Maurice Cosandey',\n",
       " 'Salvador Dalí',\n",
       " 'Benito Mussolini',\n",
       " 'Exposition',\n",
       " 'Bot',\n",
       " 'Wolfgang Pauli',\n",
       " 'Discussion:Charles de Gaulle',\n",
       " '1912',\n",
       " 'André Alexandrovitch',\n",
       " 'UNICEF',\n",
       " 'Valence',\n",
       " 'Hermann Hesse',\n",
       " 'InferenceBot page test - Varius Maxentius',\n",
       " 'Woodstock, Oxfordshire',\n",
       " 'Trotsky',\n",
       " 'Le deuxième sexe (livre)',\n",
       " 'Alberto Giacometti',\n",
       " 'Construction',\n",
       " 'Retour',\n",
       " 'Louis Lumière',\n",
       " 'Fichier:Graph InferenceBot.png',\n",
       " 'Fichier:Exemple carte.png',\n",
       " 'Mort',\n",
       " 'Discussion:Rome',\n",
       " 'Mariage',\n",
       " 'Discussion:1883',\n",
       " 'Fichier:Winston Churchill date biopath.png',\n",
       " 'Masters',\n",
       " 'Golden State Warriors',\n",
       " 'Marie Bonaparte',\n",
       " 'Retraite',\n",
       " 'TangoBot',\n",
       " 'Commémoration',\n",
       " 'Claude Nicollier',\n",
       " 'CheckerBot',\n",
       " 'PageUpdaterBot',\n",
       " 'Michael Schumacher',\n",
       " 'Fichier:Michael Schumacher.jpg',\n",
       " 'Marie-Ange Buchs',\n",
       " 'SummarizingBot',\n",
       " 'EntryMakerBot',\n",
       " 'Louis Blondel',\n",
       " 'MusÃ©e Heidi-Weber-Haus',\n",
       " 'Xénie Alexandrovna',\n",
       " 'Charles de Gaulle BioPathBot',\n",
       " 'Auguste Piccard',\n",
       " 'Attentat',\n",
       " 'TangoBotTest',\n",
       " 'Création',\n",
       " 'Victoire',\n",
       " 'Gala Diaranoff',\n",
       " 'Fichier:Franz Beckenbauer date biopath.png',\n",
       " 'Fichier:Winston Churchill colors biopath.png',\n",
       " 'Roger Federer',\n",
       " '1100',\n",
       " 'Tout va bien',\n",
       " '1917',\n",
       " 'Henri Dunant BioPathBot',\n",
       " 'Discussion:1958.12.21',\n",
       " 'Réalisation',\n",
       " 'Donald Trump',\n",
       " 'Albert Einstein',\n",
       " 'Sigmund Freud',\n",
       " 'Charles Aznavour',\n",
       " 'TestOrthobot',\n",
       " 'Bacasable',\n",
       " \"L'arroseur arrosé\",\n",
       " '1920',\n",
       " 'Adolf Hitler',\n",
       " 'Arthur Honegger',\n",
       " 'Application',\n",
       " 'Discussion:Wolfgang Pauli',\n",
       " '1961.05.25',\n",
       " 'Partie communiste chinois',\n",
       " 'Snoopy',\n",
       " 'Henry Dunant',\n",
       " '1828',\n",
       " 'Chronobot',\n",
       " 'Discussion:InferenceBot',\n",
       " 'FactChecking',\n",
       " 'OrthoBot',\n",
       " 'Lucky Luke',\n",
       " 'Biographies 2017',\n",
       " 'TranslatorBot',\n",
       " 'Alain Morisod',\n",
       " 'Mahatma Gandhi',\n",
       " 'Le Gendarme se marie',\n",
       " 'VandalBot',\n",
       " 'LinkBot',\n",
       " 'Prix Calame',\n",
       " 'Cravate à motif',\n",
       " 'Typologie de courbes',\n",
       " 'Palet fédérale',\n",
       " '1945',\n",
       " 'Lénine',\n",
       " 'Journal de Campagne',\n",
       " 'Autorisation',\n",
       " 'Discussion:Secundinus Aurelianus',\n",
       " 'RefBot',\n",
       " 'Discussion:Varius Maxentius',\n",
       " '1968',\n",
       " 'SourceBot',\n",
       " 'InferenceBot/CheckerBot',\n",
       " 'Accueil',\n",
       " 'Concert',\n",
       " 'Organisation',\n",
       " 'Évènements',\n",
       " 'Bots',\n",
       " 'Invitation',\n",
       " 'Nomination',\n",
       " 'Discussion:InferenceBot/CheckerBot',\n",
       " '1991.05.12',\n",
       " 'ENG-N-gram',\n",
       " 'ATP',\n",
       " 'Fichier:Rantamplan.jpg',\n",
       " 'Thomas Edison',\n",
       " 'Alexandre Michaïlovitch',\n",
       " '1991',\n",
       " 'République Arabe Unie (RAU)',\n",
       " 'Album',\n",
       " 'Concours Diday',\n",
       " 'Etablissement',\n",
       " 'Nazis',\n",
       " 'Freiberg',\n",
       " 'Joseph Staline',\n",
       " 'Journaux intimes du \"Che\"',\n",
       " 'Los Angeles',\n",
       " 'SPARQLBot',\n",
       " 'Dénonciation',\n",
       " 'Sepp Blatter',\n",
       " 'Louis De Funès',\n",
       " 'Bjorn Borg',\n",
       " '1992.05.31',\n",
       " '1963.06.11',\n",
       " 'Discussion:1234.12.11',\n",
       " 'Présentation',\n",
       " 'Louise Michel2',\n",
       " 'New York',\n",
       " 'Fichier:Élisabeth II colors biopath.png',\n",
       " 'Révolution',\n",
       " 'Roland-Garros',\n",
       " 'Discussion:NaissanceTest',\n",
       " '1700',\n",
       " '1986.04.14',\n",
       " 'Wimbledon',\n",
       " 'Test Creatobot',\n",
       " 'BioPathBot',\n",
       " 'Francfort',\n",
       " 'Nelson Algren',\n",
       " 'Prix Ramuz',\n",
       " 'Magic Johnson',\n",
       " 'Philippe Jaccottet',\n",
       " 'Président des Etats-Unis',\n",
       " 'Alger',\n",
       " 'Phil Collins',\n",
       " '1980.04.24',\n",
       " 'Elegant Lingerie For The Ladies',\n",
       " 'Nicolas II',\n",
       " 'Translator',\n",
       " 'Établissement',\n",
       " 'Inculpation',\n",
       " 'Shangaï',\n",
       " '1895',\n",
       " 'GraderBot',\n",
       " 'Le Gendarme en Balade',\n",
       " 'Décès',\n",
       " \"L'ObscuritÃ©\",\n",
       " '1952',\n",
       " 'Moscou',\n",
       " '1894',\n",
       " '1990.05.27',\n",
       " 'The,',\n",
       " 'Finalisation',\n",
       " 'Fichier:Map1.png',\n",
       " 'Gustave Ador',\n",
       " 'Charlie Chaplin',\n",
       " 'Le Corbusier',\n",
       " 'Testpage',\n",
       " 'Secundinus Aurelianus']"
      ]
     },
     "execution_count": 16,
     "metadata": {},
     "output_type": "execute_result"
    }
   ],
   "source": [
    "humansPages"
   ]
  },
  {
   "cell_type": "code",
   "execution_count": 17,
   "metadata": {},
   "outputs": [
    {
     "data": {
      "text/plain": [
       "['Bra_Straps_Is_It_Ok_To_but_Let_s_Let_Them_Show',\n",
       " 'A_Glimpse_At_Money_Transfer_Comparison_Sites',\n",
       " 'Where_To_Find_The_cost-free_Auto_Restoration_Manual_you_Would_Like_Online',\n",
       " 'Que_nem_Reaver_O_Ex_Companheiro_Por_outra_forma_Aficcionado',\n",
       " 'How_Kids_Can_Start_Their_Personal_Business',\n",
       " 'The_Good_and_the_Bad_of_the_Atkins_Weight_loss_program',\n",
       " 'Kayla_Itsines_Ebook_-_Bikini_Body_Guide',\n",
       " 'Top-Rated_Free_Collection_Www.jabulasa.com_option_com_k2_view_itemlist_task_user_id_130441_To_Download_For_Maya_In_2019',\n",
       " 'Great_Christmas_Offer_On_Vehicle_Add-Ons_At_Carkart',\n",
       " 'Don_t_Be_Reckless_With_Credit:_Keeping_Away_From_Credit_Card_Theft',\n",
       " 'Exactly_What_Bank_Failures_Train_Us_About_Borrowing_Private_Money',\n",
       " 'The_Car_Pc_-_A_Fundamental_Piece_Of_This_Vehicle',\n",
       " 'Finest_Buy_On_The_Application_Store.',\n",
       " 'Talismans_and_Amulets:_Symbols_and_Meanings',\n",
       " 'Charlon-Sur-Sa%C3%B4ne',\n",
       " 'Make_Money_Writing_Online_Articles',\n",
       " 'Critical_Ops_Android_Apk_Game._Critical_Ops_Free_Download_For_Tablet_And_Phone_Via_Torrent.',\n",
       " 'Pips4idiots_Free_Software_Trading_Assistant_Giveaway_By_Joe_Simpson',\n",
       " 'Suggestions_for_Small_Business_Advertising',\n",
       " 'Achilles_Tendonitis_Discomfort_Treatments_And_Causes',\n",
       " 'Do_s_and_Don_ts_of_Professional_Real_Estate_Photography',\n",
       " 'Balcony_Bras_-_Their_Purpose_along_With_The_Looks_each_With',\n",
       " 'Arch_Pain_In_Foot_While_Exercising',\n",
       " 'Mileage_Modification_And_Car_Diagnostics_Without_High_Priced_Methods',\n",
       " 'Best_30_Of_Animated_Rabbits_3D_Models_For_Maya_In_2018',\n",
       " 'The_Finest_Professional_Hair_Straighteners',\n",
       " '6_Reasons_Why_A_Website_Is_Necessary_For_Your_Business',\n",
       " 'You_Shouldn_t_Be_Careless_With_Credit',\n",
       " 'Skinny_Abolition_Of_Obamacare_Would_Leave_16_Million_Even_More_Individuals_Without_Insurance_In_A_Years.',\n",
       " 'China_s_Hawaii_To_Allow_Horse_Racing_Sports_Lotteries',\n",
       " 'Based_mostly_MMO_Just_Like_The_Professionals',\n",
       " 'Possible_reasons_For_Corns_On_Feet_the_Actual_You_can_Create_About_Them',\n",
       " 'Factors_to_Evaluate_When_Selecting_Event_Venues',\n",
       " 'Can_Be_Fat_Loss_Quite_effortless_Abide_By_all_These_2_routines',\n",
       " 'What_Does_A_Automobile_Accident_Lawyer_Do',\n",
       " 'Windows_Mac_Or_A_Linux_Systemunix_Choosing_The_Right_System_For_You',\n",
       " 'Be_Sure_That_Jeep_Pc_Is_Actually_Operating',\n",
       " 'Free_Download_And_Software_Critiques',\n",
       " 'Different_Ways_for_You_to_Make_Cash_Online',\n",
       " 'Get_Branded_Bras_to_Secure_A_Curvy_Look',\n",
       " 'Citoyen_d%27honneur_de_la_Chaux-de-Fonds',\n",
       " 'Immigration_Illegal_Aliens',\n",
       " 'The_On-line_Pharmacy_-_Find_out_how_to_Safely_Buy_Medication_Online',\n",
       " 'Free_HD_Video_Converter',\n",
       " 'Fortnite_Battle_Royale',\n",
       " 'Tips_about_Taking_Good_Care_of_Your_Enamel',\n",
       " 'Hop_Into_College_By_Making_Use_Of_These_Pointers',\n",
       " 'A_Strapless_Bra_could_Be_The_Foundation_To_Great_Fashion',\n",
       " '5_Prime_Benefits_of_Internet_Advertising',\n",
       " 'An_Overview_Of_Airbrush_For_Sale',\n",
       " 'How_One_Can_Get_More_Engagement_On_Instagram',\n",
       " 'Minimalist_Elegance:_Eleven_Ways_To_Look_Beautiful_Without_Chemical_Compounds',\n",
       " 'What_Precisely_Are_Bath_Bombs',\n",
       " 'Strapless_Bras_-_The_Best_Gift_a_Person_Can_Give',\n",
       " 'Stats_And_Data_-_Why_You_Need_Tracking_Software_On_All_The_Web_Pages',\n",
       " 'Lead_Generation_Guidance_That_Can_Make_All_The_Distinction',\n",
       " 'GearBoxes_-_Its_Scope_in_Different_Trade',\n",
       " 'New_Cars_Up_For_Sale._Discover_New_Cars_In_Your_Area.',\n",
       " 'Namibia_a_Land_of_Contrasts',\n",
       " 'Febriedethan_On_HubPages',\n",
       " 'The_Next_3_Things_To_Immediately_Do_About_%C3%98%C2%A7%C3%99%E2%80%9E%C3%98%C2%B3%C3%99%C5%A0%C3%98%C2%A7%C3%98%C2%AD%C3%98_%C3%98%C2%A7%C3%99%E2%80%9E%C3%98%C2%B9%C3%99%E2%80%9E%C3%98%C2%A7%C3%98%C2%AC%C3%99%C5%A0%C3%98_%C3%99%C3%99%C5%A0_%C3%99%E2%80%A1%C3%98%C2%A7%C3%99%E2%80%A0%C3%99%CB%86%C3%99%C3%98%C2%B1_%C3%98%C2%A7%C3%99%E2%80%9E%C3%99%E2%80%A6%C3%98%C2%A7%C3%99%E2%80%A0%C3%99%C5%A0%C3%98%C2%A7',\n",
       " 'Tinder_For_BFFs_App_Makes_Extra_Sense_Than_You_d_Suppose',\n",
       " 'Watch_TV_Shows_On-line',\n",
       " 'Understanding_Mobile_Software_Development',\n",
       " 'Shoes_Air_Jordan_Might_300_Shrink_Expiration_Employing_The_States',\n",
       " 'Avoid_Embarrassment_-_Buy_Adult_Intercourse_Toys_And_Lingerie_On-line',\n",
       " 'Jean_Tinguely_BioPathBot',\n",
       " 'Are_You_Currently_Enthusiastic_About_Learning_How_To_Play_Soccer_Continue_Reading.',\n",
       " 'Is_Actually_Weight_Loss_That_easy_To_Do_Stick_To_These_2_convention',\n",
       " '%5CuFEFFAcai_-_Wears_The_Crown_Of_The_Superfoods',\n",
       " 'How_To_Start_Your_Own_Web_Advertising_Business_Quick',\n",
       " 'Fashion_Trends_In_Males_s_Designer_Shirts',\n",
       " 'Selecting_The_Best_Auto_Repair_Guide',\n",
       " 'How_To_Setup_Your_Personal_Electronic_mail_Advertising_Marketing_campaign',\n",
       " 'Are_Personal_Alarms_Effective_For_Self_Protection',\n",
       " 'The_Reasons_Behind_Immense_Popularity_Of_Indian_Sex_Videos',\n",
       " 'Prime_Medical_Universities_in_Russia_-_Study_Medicine_MBBS_in_Russia',\n",
       " 'Take_Care_Of_Your_Dog_With_Wholesome_Dog_Treats',\n",
       " 'Subliminal_Videos_5_Tips_On_Enjoying_Stress_Free_Holidays',\n",
       " 'Vehicle_Computer_Systems_In_Addition_To_Motor_Control_Module',\n",
       " 'Indian_Students_Studying_MBBS_in_Russia',\n",
       " 'Summoners_War_Com2uS_Reveals_Mobile_MMORPG_Based_On_Popular_IP',\n",
       " 'Are_You_Wearing_value_Of_Getting_Bra_length_And_Width',\n",
       " 'Journey_Information_To_Daytona_Beach',\n",
       " 'Cop_Discharged_For_Seeing_Hard_Core_Pornography_Films_In_Team_Auto',\n",
       " 'Differences_In_Between_On_The_Internet_Poker_And_Standard_Poker',\n",
       " 'How_To_Commence_An_IT_Firm',\n",
       " 'Bare_Lifts_Bra_Support_Pads_-_Do_food_Preparation_Work',\n",
       " 'Utilizing_A_Smart_Key_For_Multi-Control_Of_Your_Vehicle',\n",
       " 'User_Guide_On_Leg_Waxing_London',\n",
       " 'Sommet_de_la_francophonie',\n",
       " 'European_Clocks_Slowed_By_Lag_In_Continent_s_Power_Grid',\n",
       " 'Can_Be_Fat_Loss_Quite_fundamental_Abide_By_a_Lot_Of_These_2_accomplishments',\n",
       " 'Know_Your_Toe:_related_To_Toe_Pain',\n",
       " 'Possible_Causes_Of_Corns_On_Feet_the_Actual_You_can_Get_Done_About_Them',\n",
       " 'How_To_Journey_By_Itself_And_Have_A_Memorable_Trip',\n",
       " 'A_Residence_Alarm_System',\n",
       " 'Metabolism_%E2%80%93_Myths_And_Information',\n",
       " 'Air_Asia_LCCT_KLIA_Airport_Guide',\n",
       " 'Hop_Into_College_By_Making_Use_Of_These_Tips',\n",
       " 'Louis_II_de_Bavi%C3%A8re',\n",
       " 'The_Enigma_Of_Why_Individuals_Go_Missing_Out_On_In_Alaska.',\n",
       " 'How_To_Manufacture_Your_Personal_Computer_Run_Quicker',\n",
       " 'Pips4idiots_Free_Software_Application_Trading_Assistant_Giveaway_By_Joe_Simpson',\n",
       " 'Facts_You_Ought_to_Know_About_Milton_Keynes',\n",
       " '12_Greatest_Online_Programs_For_Learning_Sensible_Business_Abilities',\n",
       " 'Tarot_Card_Particular_Person_Meanings',\n",
       " 'Myths_And_Realities_About_Bras_For_Women',\n",
       " 'Bras_-_What_involving_Bra_Should_I_Buy',\n",
       " 'Further_Reading_On_Concepts_Worth_Spreading',\n",
       " 'Imaginative_Cooking_Food_Recommendations_Each_Make_Should_Be_Aware_Of',\n",
       " 'Cultivating_Your_Business_With_Company_Credit',\n",
       " 'Choosing_house_Things_to_Use_Under_Your_Graduation_Dresses',\n",
       " '4_Important_Qualities_You_Search_In_an_Electrician',\n",
       " '3_Ways_To_Make_Money_Online_With_Zero_Upfront_Costs',\n",
       " 'Count_On_A_Good_tutorial_For_Playstation_3_Repair',\n",
       " 'A_Brief_Overview_For_The_Kindle_Electronic_Book',\n",
       " 'Does_Pain_In_The_Arch_Require_Surgical_Treatments',\n",
       " 'Wealthy_Accessories_For_Autumn_Brides',\n",
       " 'Is_Your_Automobile_Virus-Free_It_Ought_To_Be.',\n",
       " 'AT_T_s_DirecTV_Now_On-line_Video_Service_To_Price_35_Per_Month',\n",
       " 'Mobile_Computing_-_The_Vehicle_Computer_System_Carputer',\n",
       " 'Bridal_Lingerie_-_the_Circumstances_Perfect_Choice',\n",
       " 'Possible_reasons_For_Corns_On_Feet_exactly_What_You_can_Make_For_About_Them',\n",
       " 'Ought_to_You_Turn_Your_First_House_Into_An_Income_Property',\n",
       " 'A_Few_Things_About_Luxury_Villa_Rental_Phuket_Thailand',\n",
       " 'Choosing_the_Perfect_Things_to_Use_Under_Your_Graduation_Dresses',\n",
       " 'Activities_For_Children_In_Car',\n",
       " 'The_Five_Basic_Vehicle_Sales_Closing_Techniques.',\n",
       " 'Subjective_Areas_Overview.',\n",
       " 'Pc_Holders_-_Everything_You_Got_To_Know_Prior_To_Purchasing_All_Of_Them',\n",
       " 'Learn_how_to_Choose_Excel_Training_Programs_That_Will_Suit_Your_Necessities',\n",
       " 'Large_Size_Bras_-_Are_isn_t_Really_A_Dish_Useful',\n",
       " 'The_Best_Way_To_Travel_By_Yourself_And_Also_Have_A_Unforgettable_Journey',\n",
       " 'Cyber_Safety_-_A_Costly_Menace_to_Companies',\n",
       " 'Online_Poker_For_Genuine_Money:_Manual_To_Betting_Limits',\n",
       " 'The_Results_Of_Consuming_Quick_Foods_Every_Day',\n",
       " 'Three_Benefits_of_Roof_Repair',\n",
       " 'Choosing_Professional_Apple_Iphone_Fix_Plus_Iphone_fix_Service',\n",
       " 'What_Is_Meals_Storage',\n",
       " 'How_search_engine_optimization_Companies_Can_Help',\n",
       " 'Would_You_Consider_Working_In_a_Coworking_Atmosphere',\n",
       " 'Why_Buy_Football_Shirts_Online',\n",
       " 'Nanotechnology_In_Aviation',\n",
       " 'Organic_Meals_-_The_Benefits_of_Natural_and_Organic_Produce',\n",
       " 'Greatest_Receiving_Cheap_But_Trustworthy_Car_To_Import',\n",
       " 'DualShock_4_controller_overview_%E2%80%93_My_days_with_the_PS4',\n",
       " 'Family_Of_Detained_Indian_spy_To_Visit_Him_In_Pakistan',\n",
       " 'Brazilian_Wax_London_And_Their_Misconceptions',\n",
       " 'Sample_Of_A_Contract_Of_Agreement_With_Real_Estate_Company',\n",
       " 'PVE_Mage_TheWoWcrafters.',\n",
       " 'Conf%C3%A9rence_de_Potsdam',\n",
       " 'Pros_and_Cons_of_Managed_Services',\n",
       " 'A_Total_Guideline_To_Assist_You_To_Achieve_In_Article_Writing',\n",
       " 'Viagra:_Myth_and_Reality',\n",
       " 'A_Strapless_Bra_is_Often_A_Terrific_Wardrobe_Staple',\n",
       " 'Top_7_Tips_To_Avoid_Spyware_Against_Your_Computer',\n",
       " 'Lumbar_Kilm_Pillow_-_An_Overview',\n",
       " 'Are_Nerf_Weapons_Safe',\n",
       " 'Deciding_on_Real-World_Programs_In_CATS_Crash_Arena_Turbo_Stars_Triche_An_Update_On_Uncomplicated_Methods_In_CATS_Crash_Arena_Turbo_Stars_Triche',\n",
       " 'The_Very_Best_Seventy_Two_African_Riddles',\n",
       " 'On_The_Internet_Auto_fix_Manuals_--_Frequently_Asked_Questions',\n",
       " 'Detailed_Look_On_Restaurants_In_Peckham',\n",
       " 'Details_On_Medical_Insurance_Plans_For_Individuals',\n",
       " 'Commission_Nationale_de_l%27Energie_Atomique',\n",
       " 'Jordan_Retros_123_For_Deed_New_Services_Trade_Trust_In_%22fresh%22',\n",
       " 'The_Finest_Blackjack_Betting_System',\n",
       " 'Autographed_Sports_Memorabilia_-_Uncommon_Objects_Vs_Mass_Market',\n",
       " 'Marseille_Beyond_Unrefined_Jordan_Shoes_And_Jordan_Shoes_Each_Make_Profit_Reckon',\n",
       " 'Jeopardy_Finally_Becomes_A_Free',\n",
       " 'Sculpture_Autodestructive',\n",
       " 'Clear_Bra_Straps_not_Any_Longer_With_Exposed_Envy',\n",
       " 'Advantages_Of_Core_Muscular_tissue_Workouts_For_Volley_ball_Players',\n",
       " 'Can_You_Afford_to_Buy_a_House',\n",
       " 'The_Best_Way_To_Travel_Alone_And_Have_A_Unique_Journey',\n",
       " 'Un_souvenir_de_Solf%C3%A9rino_(livre)',\n",
       " 'Stunning_Benefits_Of_Taking_part_in_Video_Games',\n",
       " '10_Reasons_Why_is_Tea_So_Common',\n",
       " 'How_To_Succeed_And_Fail_At_Internet_Advertising',\n",
       " 'Fashion_And_Bra_Straps:_Methods_to_Select_The_Top_Bra_Strap_For_within_Event',\n",
       " 'Different_Food_Storage_Containers_for_Use',\n",
       " 'Miscellaneous_Airsoft_BB_Guns_-_Uncover_The_Reality_About_Them',\n",
       " 'New_Online_Casinos_With_No_Deposit_Bonuses',\n",
       " 'Is_Actually_Weight_Loss_That_clean_Stick_To_These_2_events',\n",
       " 'Essential_People_For_Home_Structure.',\n",
       " 'Questions_To_Ask_Earlier_than_You_Hire_A_Painter',\n",
       " 'Perennial_Real_Estate_Holdings_Limited',\n",
       " 'Jacques-Yves_Cousteau',\n",
       " '%E3%83%AD%E3%83%AC%E3%83%83%E3%82%AF%E3%82%B9_-_Fink_s_Jewelers',\n",
       " 'The_Way_To_Journey_By_Yourself_Where_You_Can_Unique_Trip',\n",
       " 'Prime_6_Traits_of_a_Good_Orthopedic_Surgeon',\n",
       " 'What_Are_the_Benefits_of_the_Microsoft_SharePoint_Platform',\n",
       " 'How_To_Clean_A_Trumpet_Mouthpiece',\n",
       " 'Are_Bra_Straps_displayed_Here_to_Remain',\n",
       " 'Reputable_Work_From_Home_Jobs_Bbb',\n",
       " 'A_Glance_At_Pension_Financial_Advisor',\n",
       " '4_Holiday_Advertising_Concepts_For_Automotive_Dealerships.',\n",
       " 'The_Secret_Algorithm_Used_by_Online_Poker_Websites',\n",
       " 'Choosing_a_Child_Specialist_Doctor',\n",
       " 'How_To_Write_A_Resignation_Letter_-_Sample_Letters_And_Tips',\n",
       " 'Melbourne_s_Cheapest_Cars_Made_Use_Of_Automobiles_Melbourne_Utilized_Automobiles_Available_For_Sale_Auto_Loans.',\n",
       " 'The_Treatment_And_Cause_Of_Achilles_Tendinitis_Discomfort',\n",
       " '5_Tips_For_Great_Graphic_Design',\n",
       " 'Possible_factors_Behind_Corns_On_Feet_exactly_What_You_can_Create_About_Them',\n",
       " 'Subjective_Places_Overview.',\n",
       " 'Are_Bra_Straps_presented_Here_to_Help_Keep',\n",
       " 'Vw_car_Or_Truck_Care_approaches_For_Spring_year',\n",
       " 'A_Look_At_Various_Choices',\n",
       " 'Important_People_For_Residence_Structure.',\n",
       " 'One_Shoulder_Evening_Dress-_A_Great_Dress_in_Look_Your_Best',\n",
       " 'Why_Today_s_Bras_Are_Far_over_The_Ones_Your_Grandmother_Wore',\n",
       " 'Mystery_Present_For_Android',\n",
       " 'Advantages_of_Online_Photo_Galleries',\n",
       " 'Leisure_Bachelorette_Celebration_Provides',\n",
       " 'Parenting_Ideas_-_Emphasizing_Distinction_For_Your_Little_one',\n",
       " 'Be_taught_Enterprise_Abilities_Articles',\n",
       " 'Complete_Report_On_Phuket_Luxury_Villas_For_Sale',\n",
       " 'High_10_Healthy_Lifestyle_Suggestions',\n",
       " 'National_Resources_Poland.',\n",
       " 'Lose_Weight_Quick_-_Check_Out_This_at_The_Moment_To_shed_Pounds_Fast',\n",
       " 'Best_Poker_Bonuses_Obtainable_At_Best_On_The_Internet_Poker_Rooms',\n",
       " 'The_Entertaining_Enjoyment_Existence_Between_Auto_And_People',\n",
       " 'Albert_Einstein_BioPathBot',\n",
       " 'Why_Finding_The_Right_Divorce_Lawyer_Is_A_Crucial_Step',\n",
       " 'Ravenous_For_Excellent_Food_preparation_Ideas_Continue_Reading',\n",
       " 'NATURE_VS_CULTURE_Ou_NATUREL.',\n",
       " 'Start_Earning_Earnings_at_Dwelling',\n",
       " 'Cosplay_Costumes_-_The_Excellent_Guide_To_Look_Good',\n",
       " 'Easy_Accounting_Software_-_5_Ways_To_Choosing',\n",
       " 'How_To_Choose_The_Proper_Tail_Light_For_Your_Car',\n",
       " 'Details_About_On-line_News',\n",
       " 'LG_Items_Comcast_A_a_Hundred_And_Eighty_Battery_Champ_For_Its_Cell_Community',\n",
       " 'How_choose_What_to_Use_Underneath_on_Your_Own_Own_Wedding_Day',\n",
       " 'Computer_Holders_-_What_You_Must_Know_Before_Buying_All_Of_Them',\n",
       " 'Coloring_Pages_for_Kids',\n",
       " 'Advantages_Of_Limited_Government',\n",
       " 'Finding_Your_Auto_Parts_in_a_Junk_Yard',\n",
       " 'Stage_%C3%80_Varsovie.',\n",
       " 'Pc_Holders_-_Everything_Got_To_Know_Before_You_Buy_Them',\n",
       " 'Inns_Paris_Rive_Gauche_Weblog',\n",
       " 'D_Perk_Ups:_the_Solution_Backless_Strapless_Support',\n",
       " 'Benefits_and_Drawbacks_of_Body_Armor',\n",
       " 'Ideas_For_Single_Mothers_To_Make_Further_Cash',\n",
       " 'Assembl%C3%A9e_f%C3%A9d%C3%A9rale',\n",
       " '5_Fears_That_Stop_You_From_Beginning_An_On-line_Business',\n",
       " 'Fashion_And_Bra_Straps:_Methods_to_Take_The_Top_Bra_Strap_For_any_Kind_Of_Event',\n",
       " 'Studying_Hip_Hop_With_Instrumentals',\n",
       " 'Como_Aprender_A_Tocar_Viol%C3%A3o_Ou_Guitarra',\n",
       " 'Full_Size_Motion_pictures_On-line',\n",
       " 'Neuromuscular_Therapy_101:_just_How_Hammer_Toe',\n",
       " 'Financial_Institutions_Are_Trustworthy_Smart_And_Safe',\n",
       " 'On_The_Internet_Auto_restore_Manuals_rapid_Frequently_Asked_Questions',\n",
       " 'Tips_For_Choosing_Runner_Rugs_For_A_Hallway',\n",
       " 'Enterprise_Networking_Articles',\n",
       " 'Slacker%E2%80%99s_Guide_To_%D8%A8%D8%B1%D9%84%D9%8A%D9%86_%D9%81%D9%8A_%D8%A7%D9%84%D9%85%D8%A7%D9%86%D9%8A%D8%A7',\n",
       " 'Start_Using_These_Suggestions_To_Be_A_Soccer_Pro',\n",
       " 'Audi_Auto_maintenance_Tips_instant_Ways_To_decrease_The_Cost_Of_Audi_Repair',\n",
       " 'Common_Online_Gambling_Games',\n",
       " 'Essential_Elements_of_a_Skilled_CV',\n",
       " 'Financial_Advisor_For_Pensions_-_What_Every_Individual_Should_Think_About',\n",
       " 'Demand_Great_Presents_This_12_months_With_The_A.V_Membership_s_2016_Gift_Information_Finest_Of',\n",
       " 'Monster_Truck_Video_games',\n",
       " 'La_Senza_Strapless_Bras_-_Much_extra_Than_Amazing_Fashion_Engineering',\n",
       " 'Patek,_Philippe_et_Cie',\n",
       " 'Why_You_Want_Air_Conditioning_Repair',\n",
       " 'Healthy_Treatment_For_Bursitis_Foot',\n",
       " 'Suggestions_To_Save_Money_On_Car_Maintenance',\n",
       " 'Do_I_Need_To_Hire_An_search_engine_optimisation_Firm',\n",
       " 'Experts_Make_The_Case_For_Ending_Routine_Blood_Tests']"
      ]
     },
     "execution_count": 17,
     "metadata": {},
     "output_type": "execute_result"
    }
   ],
   "source": [
    "botsPages"
   ]
  },
  {
   "cell_type": "code",
   "execution_count": 106,
   "metadata": {
    "scrolled": true
   },
   "outputs": [
    {
     "data": {
      "text/plain": [
       "'Have you been adding of gonna college or university to improve your household? Do you wish to enhance your daily life and career potential customers? You should think of planning to university. Think about the following if performing one thing meant just for you noises appealing. Go ahead, you are worthy of it!What must you give college? It\\'s advisable to be completely equipped instead of coming to find there are several what exactly you need. This really is true if home is miles away.Possess a personal drinking water container to school. You will need to stay hydrated to guarantee your mind and the body are functioning properly. This is much more crucial in case your courses manage a single just after yet another and you just do not have enough time to hydrate or consume. In the event you drink water, it will be easy to remain on the top of your sessions. It is possible to have a reusable drinking water container along constantly and fill it up with a drinking water fountain.Make sure to make time for mingling and academics. Some pupils spend all of their times in their dorm bedrooms understanding, which can be disappointing and unhappy, while others are so social that the coursework endures. You need to get from your space and take steps entertaining one or more times weekly and commit no less than an hour a night to studying for every of your respective lessons to assist you continue to be balanced.Learn how to write an essay making use of the \"5 Section Essay\" file format. This really is a simple essay format that is usually educated in basic or midsection institution.  If you loved this write-up and you would like to obtain extra details pertaining to result kindly take a look at our page. Though it is straightforward to find out, it is crucial in college. This formatting will allow you to effortlessly survive through most essay duties.Tend not to get involved with the folks that want to bash all the time. Having fun in the course of college or university is important, but there is however a time and a location. Should you allow yourself to fall into all those undesirable habits, your marks will truly experience. Just have enjoyable when you have completed everything you should do..If you are planning to advance to another status, or if you are intending to live on the grounds, consider whether you really need to deliver your car or truck. It is difficult to get car parking in a major town. You will need to purchase vehicle parking, registration, insurance policy, and petrol, and this can be hard if you do not use a task or are only functioning part time.Should you be working to make some extra funds if you are away in school and do not want it to interfere with your research you should check out work study. Quite often it will be possible to get a position inside your part of examine and you can really find out something.Choose a college or university which has an environment you\\'d take pleasure in investigating. Together with a wonderful university, your school must be inside a city or town which you would appreciate investigating. You will be here for four years and may transfer to the nearby neighborhood whenever you finish off college or university, so be sure to get pleasure from where you will be dwelling and researching.Acquire extra writing tools with you to your exams. There is always a strong possibility your pencil could bust or that your particular pen could use up all your printer while you\\'re doing all of your check. Using a back up writing utensil will help you keep on your examination without being distracted by getting to sharpen a pencil or re-fill a pen.Your classes aren\\'t the be-all and finish-all university. Do more on college campus. Consider taking a work-examine task, and affiliate marketing yourself with pupil businesses. There are several things to select from. Look for something that you\\'ve never ever done prior to and give it an attempt.Begin earlier. You ought to get up at 7, eat a very good your morning meal, and make preparations for your personal early morning school or start off understanding.Use data to define your school choices, although not to help make the final determination. The correct college or university for yourself is a superb go with for your needs privately, not really a winning prize that you acquire. Never choose a school simply because a  jobs lot of your friends will be going there, nor because it retains a number-1 placement on some released listing. Only a trip to the campus really can inform you if it is proper.Make use of the career advisors on grounds. The career advisers can direct you into locating the occupation that is certainly most suitable for your individuality and advantages. They can help you execute a private evaluation of your respective abilities and choices, and allow you to find the profession of the desires.A lot of students take full advantage of visa or mastercard offers while out in school, particularly when they aren\\'t used. However, this just units you up for substantial debt and destroyed credit. Even lower preliminary costs are only that--preliminary. Costs and balances mount up easily, making a hazardous scenario. If you definitely must have a credit card, stay with just one card.If you do not just like the roommate that you will be stuck with on the first day of school, speak with somebody to get this altered. Do not forget that you are going to be coping with this person for a long period, so nip the issue from the bud before it will become an  exam syllabus issue down the road.Discover all of your current choices in financial aid to increase your rewards. If you have requested students loan, you could possibly change a part of that loan in a monetary-aid job study prize. Which means you can discover work on grounds and operate away a few of that personal loan to lower your overall debts.Be a part of study organizations. Even when you are without having trouble by using a type, a study team may help make certain you stay on job and don\\'t fall behind. It may be very easy to get caught in the snare of procrastination, and a review class may help supply responsibility. Moreover, helping other individuals understand the coursework can help it keep new in your head.Hopefully, this information has given you some very nice suggestions to utilize in college. You aren\\'t by yourself. There are plenty of motives to see college or university the very first time or return soon after a very long time in the real world. Don\\'t fear! When you are truly fully commited, then you could turn out to be one of the productive folks who get it done!\\n\\n\\n\\n\\n'"
      ]
     },
     "execution_count": 106,
     "metadata": {},
     "output_type": "execute_result"
    }
   ],
   "source": [
    "result=requests.get('http://wikipast.epfl.ch/wikipast/index.php/Bounce_Into_College_By_Utilizing_These_Pointers')\n",
    "soup=BeautifulSoup(result.text, \"lxml\")\n",
    "tmp = soup.find(class_ = 'mw-content-ltr').text\n",
    "#tmp=soup.find('p').text\n",
    "tmp"
   ]
  },
  {
   "cell_type": "code",
   "execution_count": 105,
   "metadata": {},
   "outputs": [
    {
     "data": {
      "text/plain": [
       "'Biographie\\n 1930.12.03 / Naissance de Jean-Luc Godard à Paris [1]\\n 1960.09.16 / Le film \"le petit soldat\" de Jean-Luc Godard en tant que cinéaste vaudois a été interdit par la censure française  [2]\\n 1960.09.17 / Le député indépendant M. Le Pen a demandé au premier ministre français  d’interdire l’exportation de son film le petit soldat hors de la Suisse [3]\\n 1965.06.15 / Jean-Luc Godard analyse le film “Alphaville” dans l\\'émission “cinéma-vif” [4]\\n 1967.05.13 / Jean-Luc Godard connaît un énorme succès à Alger en présentant en avant-première son dernier film “Deux ou trois choses que je sais d’elle” lors d’un Festival de ses œuvres [5]\\n 1971.01.16 / Reportage de Jean-Luc Godard sur la condition ouvrière dans la revue “J’accuse” [6]\\n 1971.06.10 /  Jean-Luc Godard est victime d’un accident de moto et est gravement blessé, mais l’intervention chirurgicale s’est passée de manière satisfaisante [7]\\n 1971.06.14 / L’état de Jean-Luc Godard est satisfaisant d’après les médecins suite à son accident [8]\\n 1980.03.29 / L’institut national de l’audiovisuel de Paris a donné carte blanche et un beau budget à Jean-Luc Godard pour tourner ”France tour détour deux enfants” [9]\\n 1981.01.10 / À l’occasion de la sortie du film “sauve-qui-peut, la vie”, rétrospective des films de Jean-Luc Godard à Lausanne et à Genève [10]\\n 1985.03.18 /  Débat de Jean-Luc Godard avec des représentants de l’Église sur son film “je vous salue Marie” [11]\\n 1985.05.11 / Jean-Luc Godard demande à ses distributeurs italiens de retirer de l’affiche son film controversé “je vous salue Marie” [12]\\n 1985.09.09 / Plasticage d’un cinéma projetant “je vous salue Marie” à Valence en Espagne, où une bombe a été placée par des extrémistes de droite [13]\\n 1986.03.08 /  Jean-Luc Godard refuse la proposition de Raymond Vouillamoz pour devenir acteur de sa série noire. [14]\\n 1987.11.30 / Le dernier film de  Jean-Luc Godard, \"soigne ta droite\", est projeté en avant-première au 31ème Festival  du Film à Londres [15]\\n 1987.12.11 / Jean-Luc Godard reçoit le prix Louis Delluc 1987 pour son film “soigne ta droite” [16]\\n 1989.11.09 / Jean-Luc Godard fait partie des grands lauréats 1989 promus par la Fondation vaudoise pour la promotion et la création artistiques [17]\\n 1992.02.08 / Rétrospective de l’oeuvre  de Jean-Luc Godard à Moscou en Russie [18]\\n 1993.11.08 /  Jean-Luc Godard est invité dans l\\'émission “Tout va bien”, sur la TSR [19]\\n 1995.05.31 /  Jean-Luc Godard reçoit le prix de philosophie Adorno par la ville de Francfort [20]\\n\\n\\n\\n'"
      ]
     },
     "execution_count": 105,
     "metadata": {},
     "output_type": "execute_result"
    }
   ],
   "source": [
    "result=requests.get('http://wikipast.epfl.ch/wikipast/index.php/Jean-Luc_Godard')\n",
    "soup=BeautifulSoup(result.text, \"lxml\")\n",
    "tmp = soup.find(class_ = 'mw-content-ltr').text\n",
    "tmp"
   ]
  },
  {
   "cell_type": "code",
   "execution_count": 96,
   "metadata": {},
   "outputs": [
    {
     "ename": "FeatureNotFound",
     "evalue": "Couldn't find a tree builder with the features you requested: html_parser. Do you need to install a parser library?",
     "output_type": "error",
     "traceback": [
      "\u001b[1;31m---------------------------------------------------------------------------\u001b[0m",
      "\u001b[1;31mFeatureNotFound\u001b[0m                           Traceback (most recent call last)",
      "\u001b[1;32m<ipython-input-96-372f8c5bd786>\u001b[0m in \u001b[0;36m<module>\u001b[1;34m()\u001b[0m\n\u001b[0;32m      1\u001b[0m \u001b[0mresult\u001b[0m\u001b[1;33m=\u001b[0m\u001b[0mrequests\u001b[0m\u001b[1;33m.\u001b[0m\u001b[0mget\u001b[0m\u001b[1;33m(\u001b[0m\u001b[1;34m'http://wikipast.epfl.ch/wikipast/index.php/Bounce_Into_College_By_Utilizing_These_Pointers'\u001b[0m\u001b[1;33m)\u001b[0m\u001b[1;33m\u001b[0m\u001b[0m\n\u001b[1;32m----> 2\u001b[1;33m \u001b[0msoup\u001b[0m\u001b[1;33m=\u001b[0m\u001b[0mBeautifulSoup\u001b[0m\u001b[1;33m(\u001b[0m\u001b[0mresult\u001b[0m\u001b[1;33m.\u001b[0m\u001b[0mtext\u001b[0m\u001b[1;33m,\u001b[0m \u001b[1;34m'html_parser'\u001b[0m\u001b[1;33m)\u001b[0m\u001b[1;33m\u001b[0m\u001b[0m\n\u001b[0m\u001b[0;32m      3\u001b[0m \u001b[1;33m\u001b[0m\u001b[0m\n\u001b[0;32m      4\u001b[0m \u001b[0msoup\u001b[0m \u001b[1;33m=\u001b[0m \u001b[0msoup\u001b[0m\u001b[1;33m.\u001b[0m\u001b[0mfind\u001b[0m\u001b[1;33m(\u001b[0m\u001b[1;34m\"div\"\u001b[0m\u001b[1;33m,\u001b[0m \u001b[1;33m{\u001b[0m \u001b[1;34m\"class\"\u001b[0m \u001b[1;33m:\u001b[0m \u001b[1;34m\"addy\"\u001b[0m \u001b[1;33m}\u001b[0m\u001b[1;33m)\u001b[0m\u001b[1;33m\u001b[0m\u001b[0m\n\u001b[0;32m      5\u001b[0m \u001b[1;31m#below code will delete tags except /br\u001b[0m\u001b[1;33m\u001b[0m\u001b[1;33m\u001b[0m\u001b[0m\n",
      "\u001b[1;32mC:\\Anaconda3\\lib\\site-packages\\bs4\\__init__.py\u001b[0m in \u001b[0;36m__init__\u001b[1;34m(self, markup, features, builder, parse_only, from_encoding, exclude_encodings, **kwargs)\u001b[0m\n\u001b[0;32m    163\u001b[0m                     \u001b[1;34m\"Couldn't find a tree builder with the features you \"\u001b[0m\u001b[1;33m\u001b[0m\u001b[0m\n\u001b[0;32m    164\u001b[0m                     \u001b[1;34m\"requested: %s. Do you need to install a parser library?\"\u001b[0m\u001b[1;33m\u001b[0m\u001b[0m\n\u001b[1;32m--> 165\u001b[1;33m                     % \",\".join(features))\n\u001b[0m\u001b[0;32m    166\u001b[0m             \u001b[0mbuilder\u001b[0m \u001b[1;33m=\u001b[0m \u001b[0mbuilder_class\u001b[0m\u001b[1;33m(\u001b[0m\u001b[1;33m)\u001b[0m\u001b[1;33m\u001b[0m\u001b[0m\n\u001b[0;32m    167\u001b[0m             if not (original_features == builder.NAME or\n",
      "\u001b[1;31mFeatureNotFound\u001b[0m: Couldn't find a tree builder with the features you requested: html_parser. Do you need to install a parser library?"
     ]
    }
   ],
   "source": [
    "result=requests.get('http://wikipast.epfl.ch/wikipast/index.php/Bounce_Into_College_By_Utilizing_These_Pointers')\n",
    "soup=BeautifulSoup(result.text, 'html_parser')\n",
    "\n",
    "soup = soup.find(\"div\", { \"class\" : \"addy\" })\n",
    "#below code will delete tags except /br\n",
    "soup = str(soup)\n",
    "soup = soup.replace('<br/>' , '^')\n",
    "soup = BeautifulSoup(soup)\n",
    "soup = (soup.get_text())\n",
    "soup = str(soup)\n",
    "soup=soup.replace('^' , '<br/>')\n",
    "soup"
   ]
  },
  {
   "cell_type": "code",
   "execution_count": 64,
   "metadata": {},
   "outputs": [],
   "source": [
    "humansTextPages = []\n",
    "for p in humansPages:\n",
    "    result = requests.post(baseurl+'index.php/'+p)\n",
    "    soup = BeautifulSoup(result.text, \"lxml\")\n",
    "    result = soup.find(class_ = 'mw-content-ltr')\n",
    "    humansTextPages.append(result.text.replace(\"\\n\", \" \") + \"\\t0\")"
   ]
  },
  {
   "cell_type": "code",
   "execution_count": 65,
   "metadata": {
    "collapsed": true
   },
   "outputs": [],
   "source": [
    "botsTextPages = []\n",
    "for p in botsPages:\n",
    "    result = requests.post(baseurl+'index.php/'+p)\n",
    "    soup = BeautifulSoup(result.text, \"lxml\")\n",
    "    result = soup.find(class_ = 'mw-content-ltr')\n",
    "    botsTextPages.append(result.text.replace(\"\\n\", \" \") + \"\\t1\")"
   ]
  },
  {
   "cell_type": "code",
   "execution_count": 66,
   "metadata": {
    "collapsed": true
   },
   "outputs": [],
   "source": [
    "textPagesPlusIndicator = list(set(humansTextPages).union(set(botsTextPages)))"
   ]
  },
  {
   "cell_type": "code",
   "execution_count": 67,
   "metadata": {
    "collapsed": true
   },
   "outputs": [],
   "source": [
    "file = open('output.txt','w')\n",
    "for item in textPagesPlusIndicator:\n",
    "    file.write(\"%s\\n\" % item.encode(\"utf-8\"))"
   ]
  }
 ],
 "metadata": {
  "kernelspec": {
   "display_name": "Python 3",
   "language": "python",
   "name": "python3"
  },
  "language_info": {
   "codemirror_mode": {
    "name": "ipython",
    "version": 3
   },
   "file_extension": ".py",
   "mimetype": "text/x-python",
   "name": "python",
   "nbconvert_exporter": "python",
   "pygments_lexer": "ipython3",
   "version": "3.6.1"
  }
 },
 "nbformat": 4,
 "nbformat_minor": 2
}
