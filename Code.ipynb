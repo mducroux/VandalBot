{
 "cells": [
  {
   "cell_type": "code",
   "execution_count": 7,
   "metadata": {
    "collapsed": true
   },
   "outputs": [],
   "source": [
    "import urllib\n",
    "import requests\n",
    "from bs4 import BeautifulSoup\n",
    "import re"
   ]
  },
  {
   "cell_type": "code",
   "execution_count": 8,
   "metadata": {
    "collapsed": true
   },
   "outputs": [],
   "source": [
    "user='VandalBot'\n",
    "passw='Goawaybadbots'\n",
    "baseurl='http://wikipast.epfl.ch/wikipast/'\n",
    "summary='Lutte activement contre les nombreux SPAMBot qui assiègent Wikipast.'"
   ]
  },
  {
   "cell_type": "code",
   "execution_count": 9,
   "metadata": {
    "collapsed": true
   },
   "outputs": [],
   "source": [
    "# Login request\n",
    "payload={'action':'query','format':'json','utf8':'','meta':'tokens','type':'login'}\n",
    "r1=requests.post(baseurl + 'api.php', data=payload)\n",
    "\n",
    "#login confirm\n",
    "login_token=r1.json()['query']['tokens']['logintoken']\n",
    "payload={'action':'login','format':'json','utf8':'','lgname':user,'lgpassword':passw,'lgtoken':login_token}\n",
    "r2=requests.post(baseurl + 'api.php', data=payload, cookies=r1.cookies)"
   ]
  },
  {
   "cell_type": "code",
   "execution_count": 10,
   "metadata": {
    "collapsed": true
   },
   "outputs": [],
   "source": [
    "#get edit token2\n",
    "params3='?format=json&action=query&meta=tokens&continue='\n",
    "r3=requests.get(baseurl + 'api.php' + params3, cookies=r2.cookies)\n",
    "edit_token=r3.json()['query']['tokens']['csrftoken']\n",
    "\n",
    "edit_cookie=r2.cookies.copy()\n",
    "edit_cookie.update(r3.cookies)"
   ]
  },
  {
   "cell_type": "code",
   "execution_count": 17,
   "metadata": {
    "collapsed": true
   },
   "outputs": [],
   "source": [
    "fullbios = ''\n",
    "name = 'Biographies'\n",
    "result=requests.post(baseurl+'api.php?action=query&titles='+name+'&export&exportnowrap')\n",
    "soup=BeautifulSoup(result.text, \"lxml\")\n",
    "code=''\n",
    "for primitive in soup.findAll(\"text\"):\n",
    "    code+=primitive.string\n",
    "fullbios = code"
   ]
  },
  {
   "cell_type": "code",
   "execution_count": 18,
   "metadata": {
    "collapsed": true,
    "scrolled": false
   },
   "outputs": [],
   "source": [
    "users2018 = open(\"liste_utilisateurs_2018.txt\", \"r\")\n",
    "lines = users2018.readlines()\n",
    "list_users_2018 = [l.strip('\\n') for l in lines]"
   ]
  },
  {
   "cell_type": "code",
   "execution_count": 19,
   "metadata": {
    "collapsed": true
   },
   "outputs": [],
   "source": [
    "users2017 = open(\"liste_utilisateurs_2017.txt\", \"r\")\n",
    "lines = users2017.readlines()\n",
    "list_users_2017 = [l.strip('\\n') for l in lines]"
   ]
  },
  {
   "cell_type": "code",
   "execution_count": 107,
   "metadata": {
    "collapsed": true
   },
   "outputs": [],
   "source": [
    "goodBots = open(\"list_good_bots.txt\", \"r\")\n",
    "lines = goodBots.readlines()\n",
    "list_good_bots = [l.strip('\\n') for l in lines]"
   ]
  },
  {
   "cell_type": "code",
   "execution_count": 129,
   "metadata": {},
   "outputs": [],
   "source": [
    "protected_logins = list(set(list_users_2018).union(set(list_users_2017)))"
   ]
  },
  {
   "cell_type": "code",
   "execution_count": 130,
   "metadata": {},
   "outputs": [],
   "source": [
    "def getPageList(logins):\n",
    "    liste_pages=[]\n",
    "    for user in logins:\n",
    "        result=requests.post(baseurl+'api.php?action=query&list=usercontribs&ucuser='+user+'&format=xml')\n",
    "        soup=BeautifulSoup(result.content,'lxml')\n",
    "        for primitive in soup.usercontribs.findAll('item'):\n",
    "            liste_pages.append(primitive['title'])\n",
    "    liste_pages=list(set(liste_pages))\n",
    "    return liste_pages"
   ]
  },
  {
   "cell_type": "code",
   "execution_count": 131,
   "metadata": {},
   "outputs": [],
   "source": [
    "humansPages = getPageList(protected_logins)"
   ]
  },
  {
   "cell_type": "code",
   "execution_count": 132,
   "metadata": {
    "collapsed": true
   },
   "outputs": [],
   "source": [
    "protected_logins = list(set(list_users_2018).union(set(list_users_2017)).union(set(list_good_bots)))"
   ]
  },
  {
   "cell_type": "code",
   "execution_count": 133,
   "metadata": {
    "collapsed": true
   },
   "outputs": [],
   "source": [
    "def getRandomPage():\n",
    "    result=requests.post(baseurl+'index.php/Special:Page_au_hasard')\n",
    "    return result.url[43:]"
   ]
  },
  {
   "cell_type": "code",
   "execution_count": null,
   "metadata": {},
   "outputs": [],
   "source": [
    "botsPages = []\n",
    "while(len(botsPages) < len(humansPages)):\n",
    "    tmp = getRandomPage()\n",
    "    if((tmp not in humansPages) and (tmp not in botsPages)):\n",
    "        botsPages.append(tmp)"
   ]
  },
  {
   "cell_type": "code",
   "execution_count": null,
   "metadata": {},
   "outputs": [],
   "source": [
    "humansPages"
   ]
  },
  {
   "cell_type": "code",
   "execution_count": null,
   "metadata": {},
   "outputs": [],
   "source": [
    "botsPages"
   ]
  },
  {
   "cell_type": "code",
   "execution_count": null,
   "metadata": {
    "collapsed": true
   },
   "outputs": [],
   "source": [
    "humansTextPages = []\n",
    "botsTextPages = []\n",
    "for p in humansPages:\n",
    "    result = requests.post(baseurl+'index.php/'+p)\n",
    "    "
   ]
  }
 ],
 "metadata": {
  "kernelspec": {
   "display_name": "Python 3",
   "language": "python",
   "name": "python3"
  },
  "language_info": {
   "codemirror_mode": {
    "name": "ipython",
    "version": 3
   },
   "file_extension": ".py",
   "mimetype": "text/x-python",
   "name": "python",
   "nbconvert_exporter": "python",
   "pygments_lexer": "ipython3",
   "version": "3.6.1"
  }
 },
 "nbformat": 4,
 "nbformat_minor": 2
}
