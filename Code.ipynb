{
 "cells": [
  {
   "cell_type": "code",
   "execution_count": 31,
   "metadata": {
    "collapsed": true
   },
   "outputs": [],
   "source": [
    "import urllib\n",
    "import requests\n",
    "from bs4 import BeautifulSoup\n",
    "import re"
   ]
  },
  {
   "cell_type": "code",
   "execution_count": 32,
   "metadata": {
    "collapsed": true
   },
   "outputs": [],
   "source": [
    "user='VandalBot'\n",
    "passw='Goawaybadbots'\n",
    "baseurl='http://wikipast.epfl.ch/wikipast/'\n",
    "summary='Lutte activement contre les nombreux SPAMBot qui assiègent Wikipast.'"
   ]
  },
  {
   "cell_type": "code",
   "execution_count": 33,
   "metadata": {
    "collapsed": true
   },
   "outputs": [],
   "source": [
    "# Login request\n",
    "payload={'action':'query','format':'json','utf8':'','meta':'tokens','type':'login'}\n",
    "r1=requests.post(baseurl + 'api.php', data=payload)\n",
    "\n",
    "#login confirm\n",
    "login_token=r1.json()['query']['tokens']['logintoken']\n",
    "payload={'action':'login','format':'json','utf8':'','lgname':user,'lgpassword':passw,'lgtoken':login_token}\n",
    "r2=requests.post(baseurl + 'api.php', data=payload, cookies=r1.cookies)"
   ]
  },
  {
   "cell_type": "code",
   "execution_count": 34,
   "metadata": {
    "collapsed": true
   },
   "outputs": [],
   "source": [
    "#get edit token2\n",
    "params3='?format=json&action=query&meta=tokens&continue='\n",
    "r3=requests.get(baseurl + 'api.php' + params3, cookies=r2.cookies)\n",
    "edit_token=r3.json()['query']['tokens']['csrftoken']\n",
    "\n",
    "edit_cookie=r2.cookies.copy()\n",
    "edit_cookie.update(r3.cookies)"
   ]
  },
  {
   "cell_type": "code",
   "execution_count": 35,
   "metadata": {
    "collapsed": true
   },
   "outputs": [],
   "source": [
    "fullbios = ''\n",
    "name = 'Biographies'\n",
    "result=requests.post(baseurl+'api.php?action=query&titles='+name+'&export&exportnowrap')\n",
    "soup=BeautifulSoup(result.text, \"lxml\")\n",
    "code=''\n",
    "for primitive in soup.findAll(\"text\"):\n",
    "    code+=primitive.string\n",
    "fullbios = code"
   ]
  },
  {
   "cell_type": "code",
   "execution_count": 53,
   "metadata": {
    "scrolled": false
   },
   "outputs": [],
   "source": [
    "users2018 = open(\"liste_utilisateurs_2018.txt\", \"r\")\n",
    "lines = users2018.readlines()\n",
    "list_users_2018 = [l.strip('\\n') for l in lines]"
   ]
  },
  {
   "cell_type": "code",
   "execution_count": 54,
   "metadata": {},
   "outputs": [],
   "source": [
    "users2017 = open(\"liste_utilisateurs_2017.txt\", \"r\")\n",
    "lines = users2017.readlines()\n",
    "list_users_2017 = [l.strip('\\n') for l in lines]"
   ]
  },
  {
   "cell_type": "code",
   "execution_count": 55,
   "metadata": {},
   "outputs": [],
   "source": [
    "protected_logins = list(set(list2018).union(set(list2017)))"
   ]
  },
  {
   "cell_type": "code",
   "execution_count": null,
   "metadata": {
    "collapsed": true
   },
   "outputs": [],
   "source": [
    "def getRandomBotUser():\n",
    "    # take a random page\n",
    "    # result=requests.post(baseurl+'api.php?action=query&list=usercontribs&ucuser='+user+'&format=xml')\n",
    "    #try:\n",
    "    #    url = http://wikipast.epfl.ch/wikipast/index.php/Special:Randompage
    "    soup=BeautifulSoup(result.content,'lxml')\n",
    "    for primitive in soup.usercontribs.findAll('item'):\n",
    "        liste_pages.append(primitive['title'])\n",
    "    return result"
   ]
  },
  {
   "cell_type": "code",
   "execution_count": 58,
   "metadata": {},
   "outputs": [
    {
     "ename": "SyntaxError",
     "evalue": "invalid syntax (<ipython-input-58-cda638430199>, line 2)",
     "output_type": "error",
     "traceback": [
      "\u001b[1;36m  File \u001b[1;32m\"<ipython-input-58-cda638430199>\"\u001b[1;36m, line \u001b[1;32m2\u001b[0m\n\u001b[1;33m    while(len(bots_logins) < len(protected_logins))\u001b[0m\n\u001b[1;37m                                                   ^\u001b[0m\n\u001b[1;31mSyntaxError\u001b[0m\u001b[1;31m:\u001b[0m invalid syntax\n"
     ]
    }
   ],
   "source": [
    "bots_logins = []\n",
    "while(len(bots_logins) < len(protected_logins))\n",
    "    "
   ]
  },
  {
   "cell_type": "code",
   "execution_count": 57,
   "metadata": {},
   "outputs": [],
   "source": [
    "logins = bots_logins + protected_logins;"
   ]
  },
  {
   "cell_type": "code",
   "execution_count": 56,
   "metadata": {
    "collapsed": true
   },
   "outputs": [],
   "source": [
    "def getPageList(logins):\n",
    "    liste_pages=[]\n",
    "    for user in logins:\n",
    "        result=requests.post(baseurl+'api.php?action=query&list=usercontribs&ucuser='+user+'&format=xml')\n",
    "        soup=BeautifulSoup(result.content,'lxml')\n",
    "        for primitive in soup.usercontribs.findAll('item'):\n",
    "            liste_pages.append(primitive['title'])\n",
    "    liste_pages=list(set(liste_pages))\n",
    "    return liste_pages"
   ]
  },
  {
   "cell_type": "code",
   "execution_count": null,
   "metadata": {
    "collapsed": true
   },
   "outputs": [],
   "source": []
  }
 ],
 "metadata": {
  "kernelspec": {
   "display_name": "Python 3",
   "language": "python",
   "name": "python3"
  },
  "language_info": {
   "codemirror_mode": {
    "name": "ipython",
    "version": 3
   },
   "file_extension": ".py",
   "mimetype": "text/x-python",
   "name": "python",
   "nbconvert_exporter": "python",
   "pygments_lexer": "ipython3",
   "version": "3.6.1"
  }
 },
 "nbformat": 4,
 "nbformat_minor": 2
}
